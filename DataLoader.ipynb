{
 "cells": [
  {
   "cell_type": "code",
   "execution_count": 3,
   "id": "dcd83769",
   "metadata": {},
   "outputs": [
    {
     "name": "stdout",
     "output_type": "stream",
     "text": [
      "Connected\n"
     ]
    }
   ],
   "source": [
    "import pandas as pd\n",
    "import mysql.connector\n",
    "\n",
    "conn = mysql.connector.connect(\n",
    "    host = \"localhost\",\n",
    "    user=\"StockInsertion\",\n",
    "    password=\"StockDataInsertion\",\n",
    "    database=\"Stock\"\n",
    ")\n",
    "if conn.is_connected():\n",
    "    print(\"Connected\")\n",
    "\n",
    "cursor = conn.cursor()"
   ]
  },
  {
   "cell_type": "code",
   "execution_count": 4,
   "id": "5fbc30f6",
   "metadata": {},
   "outputs": [
    {
     "name": "stdout",
     "output_type": "stream",
     "text": [
      "         Data    Nazwa          ISIN Waluta  Kurs otwarcia  Kurs max  \\\n",
      "0  2022-03-03  06MAGNA  PLNFI0600010    PLN          2.885     2.885   \n",
      "\n",
      "   Kurs min  Kurs zamknięcia  Zmiana  Wolumen  Liczba Transakcji   Obrót  \\\n",
      "0      2.62             2.74   -2.32    42279                 98  115.17   \n",
      "\n",
      "   Liczba otwartych pozycji  Wartość otwartych pozycji  Cena nominalna  \n",
      "0                         0                          0               0  \n"
     ]
    }
   ],
   "source": [
    "print(pd.read_excel('StockData/GPW/_2022-03-03_akcje.xls').head(1))"
   ]
  },
  {
   "cell_type": "markdown",
   "id": "ae0af960",
   "metadata": {},
   "source": [
    "# Prepare the list of companies on GPW"
   ]
  },
  {
   "cell_type": "code",
   "execution_count": null,
   "id": "97fd55c1",
   "metadata": {},
   "outputs": [],
   "source": [
    "import os\n",
    "ExchangePath = 'StockData/GPW'\n",
    "Companies = set()\n",
    "for CurrentFile in os.listdir(ExchangePath):\n",
    "    file_path = os.path.join(ExchangePath, CurrentFile)\n",
    "    df = pd.read_excel(file_path)\n",
    "\n",
    "    if 'Nazwa' in df.columns:\n",
    "        for company in df['Nazwa']:\n",
    "            Companies.add(company)\n",
    "pd.DataFrame(sorted(Companies), columns=['company']).to_csv(\"GPW_Companies.csv\")\n"
   ]
  },
  {
   "cell_type": "code",
   "execution_count": null,
   "id": "a40c99a2",
   "metadata": {},
   "outputs": [],
   "source": [
    "cursor.close()\n",
    "conn.close()"
   ]
  },
  {
   "cell_type": "code",
   "execution_count": 7,
   "id": "1d8e329f",
   "metadata": {},
   "outputs": [
    {
     "name": "stdout",
     "output_type": "stream",
     "text": [
      "Connected to database\n",
      "Record inserted successfully\n",
      "MySQL connection closed\n"
     ]
    }
   ],
   "source": [
    "import mysql.connector\n",
    "from mysql.connector import Error\n",
    "\n",
    "def insert_stock_exchange():\n",
    "    try:\n",
    "        conn = mysql.connector.connect(\n",
    "            host=\"localhost\",\n",
    "            user=\"root\",       # replace with your MySQL user\n",
    "            password=\"Kanakan9824\",   # replace with your password\n",
    "            database=\"Stock\"    # replace with your DB name (e.g., Stock)\n",
    "        )\n",
    "        if conn.is_connected():\n",
    "            print(\"Connected to database\")\n",
    "\n",
    "        cursor = conn.cursor()\n",
    "\n",
    "        insert_query = \"\"\"\n",
    "            INSERT INTO StockExchange (ExchangeName, Country, City)\n",
    "            VALUES (%s, %s, %s)\n",
    "        \"\"\"\n",
    "\n",
    "        data = (\"GPW\", \"Polska\", \"Warszawa\")\n",
    "\n",
    "        cursor.execute(insert_query, data)\n",
    "        conn.commit()\n",
    "        print(\"Record inserted successfully\")\n",
    "\n",
    "    except Error as e:\n",
    "        print(f\"Error: {e}\")\n",
    "\n",
    "    finally:\n",
    "        if conn.is_connected():\n",
    "            cursor.close()\n",
    "            conn.close()\n",
    "            print(\"MySQL connection closed\")\n",
    "\n",
    "if __name__ == \"__main__\":\n",
    "    insert_stock_exchange()\n"
   ]
  }
 ],
 "metadata": {
  "kernelspec": {
   "display_name": "myenv",
   "language": "python",
   "name": "python3"
  },
  "language_info": {
   "codemirror_mode": {
    "name": "ipython",
    "version": 3
   },
   "file_extension": ".py",
   "mimetype": "text/x-python",
   "name": "python",
   "nbconvert_exporter": "python",
   "pygments_lexer": "ipython3",
   "version": "3.12.3"
  }
 },
 "nbformat": 4,
 "nbformat_minor": 5
}
