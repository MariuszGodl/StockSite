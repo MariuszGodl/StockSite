{
 "cells": [
  {
   "cell_type": "code",
   "execution_count": null,
   "id": "6217c593",
   "metadata": {},
   "outputs": [],
   "source": [
    "import pandas as pd\n",
    "import mysql.connector"
   ]
  },
  {
   "cell_type": "code",
   "execution_count": 11,
   "id": "db906452",
   "metadata": {},
   "outputs": [
    {
     "name": "stdout",
     "output_type": "stream",
     "text": [
      "Index(['Data', 'Nazwa', 'ISIN', 'Waluta', 'Kurs otwarcia', 'Kurs max',\n",
      "       'Kurs min', 'Kurs zamknięcia', 'Zmiana', 'Wolumen', 'Liczba Transakcji',\n",
      "       'Obrót', 'Liczba otwartych pozycji', 'Wartość otwartych pozycji',\n",
      "       'Cena nominalna'],\n",
      "      dtype='object')\n"
     ]
    }
   ],
   "source": [
    "print(pd.read_excel('StockData/GPW/_2022-03-03_akcje.xls').columns)"
   ]
  },
  {
   "cell_type": "code",
   "execution_count": 12,
   "id": "5fbc30f6",
   "metadata": {},
   "outputs": [
    {
     "name": "stdout",
     "output_type": "stream",
     "text": [
      "           Data      Nazwa          ISIN Waluta  Kurs otwarcia  Kurs max  \\\n",
      "0    2022-03-03    06MAGNA  PLNFI0600010    PLN          2.885     2.885   \n",
      "1    2022-03-03   08OCTAVA  PLNFI0800016    PLN          0.980     0.995   \n",
      "2    2022-03-03      11BIT  PL11BTS00015    PLN        506.000   514.000   \n",
      "3    2022-03-03    3RGAMES  PLGRNKT00019    PLN          0.532     0.578   \n",
      "4    2022-03-03  4FUNMEDIA  PL4FNMD00013    PLN          7.260     7.500   \n",
      "..          ...        ...           ...    ...            ...       ...   \n",
      "438  2022-03-03      ZEPAK  PLZEPAK00012    PLN         19.000    19.300   \n",
      "439  2022-03-03       ZPUE  PLZPUE000012    PLN        209.000   213.000   \n",
      "440  2022-03-03      ZREMB  PLZBMZC00019    PLN          4.300     4.590   \n",
      "441  2022-03-03        ZUE  PLZUE0000015    PLN          2.890     3.000   \n",
      "442  2022-03-03     ZYWIEC  PLZYWIC00016    PLN        500.000   500.000   \n",
      "\n",
      "     Kurs min  Kurs zamknięcia  Zmiana  Wolumen  Liczba Transakcji    Obrót  \\\n",
      "0       2.620            2.740   -2.32    42279                 98   115.17   \n",
      "1       0.980            0.995    1.53       13                  4     0.01   \n",
      "2     485.200          503.000   -0.69     7608                386  3768.31   \n",
      "3       0.532            0.578   -3.34    45350                 12    24.56   \n",
      "4       7.160            7.500    4.17     1377                 11     9.96   \n",
      "..        ...              ...     ...      ...                ...      ...   \n",
      "438    16.900           17.300   11.25   279291               1308  5043.77   \n",
      "439   206.000          207.000   -1.43       70                  7    14.67   \n",
      "440     3.500            3.760  -10.48  1707088               2255  6850.55   \n",
      "441     2.870            2.950    2.79    46918                 55   138.77   \n",
      "442   496.000          500.000    1.01       20                  6     9.99   \n",
      "\n",
      "     Liczba otwartych pozycji  Wartość otwartych pozycji  Cena nominalna  \n",
      "0                           0                          0               0  \n",
      "1                           0                          0               0  \n",
      "2                           0                          0               0  \n",
      "3                           0                          0               0  \n",
      "4                           0                          0               0  \n",
      "..                        ...                        ...             ...  \n",
      "438                         0                          0               0  \n",
      "439                         0                          0               0  \n",
      "440                         0                          0               0  \n",
      "441                         0                          0               0  \n",
      "442                         0                          0               0  \n",
      "\n",
      "[443 rows x 15 columns]\n"
     ]
    }
   ],
   "source": [
    "print(pd.read_excel('StockData/GPW/_2022-03-03_akcje.xls'))"
   ]
  },
  {
   "cell_type": "code",
   "execution_count": null,
   "id": "a40c99a2",
   "metadata": {},
   "outputs": [],
   "source": []
  }
 ],
 "metadata": {
  "kernelspec": {
   "display_name": "myenv",
   "language": "python",
   "name": "python3"
  },
  "language_info": {
   "codemirror_mode": {
    "name": "ipython",
    "version": 3
   },
   "file_extension": ".py",
   "mimetype": "text/x-python",
   "name": "python",
   "nbconvert_exporter": "python",
   "pygments_lexer": "ipython3",
   "version": "3.12.3"
  }
 },
 "nbformat": 4,
 "nbformat_minor": 5
}
